{
 "cells": [
  {
   "cell_type": "code",
   "execution_count": 6,
   "metadata": {},
   "outputs": [
    {
     "name": "stdout",
     "output_type": "stream",
     "text": [
      "[PhysicalDevice(name='/physical_device:GPU:0', device_type='GPU')]\n"
     ]
    }
   ],
   "source": [
    "import csv\n",
    "import tensorflow as tf\n",
    "import numpy as np\n",
    "import os\n",
    "import pathlib\n",
    "import shutil\n",
    "import pandas as pd\n",
    "from sklearn.metrics import classification_report\n",
    "from sklearn.preprocessing import MultiLabelBinarizer\n",
    "from keras.preprocessing.image import ImageDataGenerator\n",
    "import matplotlib.pyplot as plt\n",
    "from PIL import Image\n",
    "import numpy as np\n",
    "\n",
    "FAST_RUN = False\n",
    "\n",
    "epochs=1000\n",
    "batch_size = 128\n",
    "target_size = (180, 180)\n",
    "threshold = 0.50\n",
    "input_path = \"./kaggle/input/plant-pathology-2021-fgvc8/\"\n",
    "checkpoint_filepath = './tmp/checkpoint'\n",
    "model_filepath = './model'\n",
    "class_names = ['complex', 'frog_eye_leaf_spot', 'healthy', 'powdery_mildew', 'rust', 'scab']\n",
    "num_classes = len(class_names)\n",
    "\n",
    "def labels_to_str(vector):\n",
    "    result = []\n",
    "    for idx, v in enumerate(vector):\n",
    "        if v == 1:\n",
    "            result.append(class_names[idx])\n",
    "    return \" \".join(result)\n",
    "\n",
    "\n",
    "print(tf.config.list_physical_devices('GPU'))"
   ]
  },
  {
   "cell_type": "code",
   "execution_count": 7,
   "metadata": {},
   "outputs": [],
   "source": [
    "model = tf.keras.models.load_model(model_filepath)"
   ]
  },
  {
   "cell_type": "code",
   "execution_count": 8,
   "metadata": {},
   "outputs": [
    {
     "name": "stdout",
     "output_type": "stream",
     "text": [
      "Found 3 validated image filenames belonging to 1 classes.\n"
     ]
    }
   ],
   "source": [
    "test_df = pd.read_csv(input_path + 'sample_submission.csv')\n",
    "test_path = input_path + 'test_images'\n",
    "\n",
    "image_test_datagen = ImageDataGenerator(\n",
    "    rescale=1./255,\n",
    ")\n",
    "\n",
    "test_generator = image_test_datagen.flow_from_dataframe(\n",
    "    test_df,\n",
    "    directory = test_path,\n",
    "    x_col = \"image\",\n",
    "    y_col = \"labels\",\n",
    "    target_size = target_size,\n",
    "    color_mode=\"rgb\",\n",
    "    batch_size=1,\n",
    "    shuffle=False,\n",
    "    seed=123,\n",
    "    subset=None\n",
    ")"
   ]
  },
  {
   "cell_type": "code",
   "execution_count": 9,
   "metadata": {},
   "outputs": [
    {
     "name": "stdout",
     "output_type": "stream",
     "text": [
      "3/3 [==============================] - 5s 30ms/step\n",
      "                  image labels\n",
      "0  85f8cb619c66b863.jpg   rust\n",
      "1  ad8770db05586b59.jpg       \n",
      "2  c7b03e718489f3ca.jpg       \n"
     ]
    }
   ],
   "source": [
    "predicts = model.predict(test_generator)\n",
    "verdict = (predicts>threshold)\n",
    "answer = []\n",
    "for i in range(verdict.shape[0]):\n",
    "    answer.append(labels_to_str(verdict[i]))\n",
    "\n",
    "\n",
    "test_df['labels'] = np.array(answer)\n",
    "print(test_df)\n",
    "test_df.to_csv('submission.csv', index=False)"
   ]
  }
 ],
 "metadata": {
  "kernelspec": {
   "display_name": "lisce_kernel",
   "language": "python",
   "name": "lisce_kernel"
  },
  "language_info": {
   "codemirror_mode": {
    "name": "ipython",
    "version": 3
   },
   "file_extension": ".py",
   "mimetype": "text/x-python",
   "name": "python",
   "nbconvert_exporter": "python",
   "pygments_lexer": "ipython3",
   "version": "3.10.1"
  },
  "orig_nbformat": 4
 },
 "nbformat": 4,
 "nbformat_minor": 2
}
