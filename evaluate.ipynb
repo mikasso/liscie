{
 "cells": [
  {
   "cell_type": "code",
   "execution_count": 6,
   "metadata": {},
   "outputs": [],
   "source": [
    "import csv\n",
    "import tensorflow as tf\n",
    "import numpy as np\n",
    "import os\n",
    "import pathlib\n",
    "import shutil\n",
    "from sklearn.metrics import classification_report\n",
    "\n",
    "batch_size = 128\n",
    "img_height = 180\n",
    "img_width = 180\n",
    "input_path = \"./kaggle/input/plant-pathology-2021-fgvc8/\"\n",
    "dataset_path = \"./kaggle/working/dataset/\"\n",
    "checkpoint_filepath = './tmp/checkpoint'\n",
    "model_filepath = './model'\n",
    "test_path = \"./kaggle/working/test/\"\n",
    "result_path = \"./kaggle/working/submission.csv\"\n",
    "class_names = ['complex', 'frog_eye_leaf_spot', 'frog_eye_leaf_spot complex', 'healthy', 'powdery_mildew', 'powdery_mildew complex', 'rust', 'rust complex', 'rust frog_eye_leaf_spot', 'scab', 'scab frog_eye_leaf_spot', 'scab frog_eye_leaf_spot complex']\n"
   ]
  },
  {
   "cell_type": "code",
   "execution_count": 7,
   "metadata": {},
   "outputs": [],
   "source": [
    "model = tf.keras.models.load_model(model_filepath)\n",
    "model.save()"
   ]
  },
  {
   "cell_type": "code",
   "execution_count": 8,
   "metadata": {},
   "outputs": [
    {
     "data": {
      "text/plain": [
       "'./kaggle/working/test/test'"
      ]
     },
     "execution_count": 8,
     "metadata": {},
     "output_type": "execute_result"
    }
   ],
   "source": [
    "shutil.rmtree(test_path, ignore_errors=True)\n",
    "pathlib.Path(test_path).mkdir(parents=True)\n",
    "\n",
    "shutil.copytree(input_path + \"test_images/\", test_path + \"test\")"
   ]
  },
  {
   "cell_type": "code",
   "execution_count": 4,
   "metadata": {},
   "outputs": [
    {
     "name": "stdout",
     "output_type": "stream",
     "text": [
      "Found 3 files belonging to 1 classes.\n"
     ]
    }
   ],
   "source": [
    "test_ds = tf.keras.utils.image_dataset_from_directory(\n",
    "  test_path,\n",
    "  image_size=(img_height, img_width),\n",
    "  batch_size=batch_size)"
   ]
  },
  {
   "cell_type": "code",
   "execution_count": 9,
   "metadata": {},
   "outputs": [
    {
     "name": "stdout",
     "output_type": "stream",
     "text": [
      "1/1 [==============================] - 0s 142ms/step\n",
      "image,labels\n",
      "./kaggle/working/test/test\\c7b03e718489f3ca.jpg,complex\n",
      "./kaggle/working/test/test\\85f8cb619c66b863.jpg,scab frog_eye_leaf_spot\n",
      "./kaggle/working/test/test\\ad8770db05586b59.jpg,rust\n",
      "\n"
     ]
    }
   ],
   "source": [
    "label_ids = np.argmax(model.predict(test_ds), axis=1)\n",
    "\n",
    "output = \"image,labels\\n\"\n",
    "for i in range(len(label_ids)):\n",
    "    output += test_ds.file_paths[i].replace(test_path + \"test/\", \"\") + \",\" + class_names[label_ids[i]] + \"\\n\"\n",
    "print(output)\n",
    "f = open(result_path, \"w\")\n",
    "f.write(output)\n",
    "f.close()"
   ]
  }
 ],
 "metadata": {
  "kernelspec": {
   "display_name": "lisce_kernel",
   "language": "python",
   "name": "lisce_kernel"
  },
  "language_info": {
   "codemirror_mode": {
    "name": "ipython",
    "version": 3
   },
   "file_extension": ".py",
   "mimetype": "text/x-python",
   "name": "python",
   "nbconvert_exporter": "python",
   "pygments_lexer": "ipython3",
   "version": "3.10.1"
  },
  "orig_nbformat": 4
 },
 "nbformat": 4,
 "nbformat_minor": 2
}
